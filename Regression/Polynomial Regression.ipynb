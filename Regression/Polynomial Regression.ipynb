{
 "cells": [
  {
   "cell_type": "markdown",
   "metadata": {
    "button": false,
    "new_sheet": false,
    "run_control": {
     "read_only": false
    }
   },
   "source": [
    "\n",
    "<h1><center>Polynomial Regression</center></h1>\n"
   ]
  },
  {
   "cell_type": "markdown",
   "metadata": {
    "button": false,
    "new_sheet": false,
    "run_control": {
     "read_only": false
    }
   },
   "source": [
    "### Importing packages"
   ]
  },
  {
   "cell_type": "code",
   "execution_count": 1,
   "metadata": {
    "button": false,
    "new_sheet": false,
    "run_control": {
     "read_only": false
    }
   },
   "outputs": [],
   "source": [
    "import matplotlib.pyplot as plt\n",
    "import pandas as pd\n",
    "import pylab as pl\n",
    "import numpy as np\n",
    "%matplotlib inline"
   ]
  },
  {
   "cell_type": "markdown",
   "metadata": {
    "button": false,
    "new_sheet": false,
    "run_control": {
     "read_only": false
    }
   },
   "source": [
    "\n",
    "## Understanding the Data\n",
    "\n",
    "### `FuelConsumptionCo2.csv`:\n",
    "We have downloaded a fuel consumption dataset, **`FuelConsumptionCo2.csv`**, which contains model-specific fuel consumption ratings and estimated carbon dioxide emissions for new light-duty vehicles for retail sale in Canada. [Dataset source](http://open.canada.ca/data/en/dataset/98f1a129-f628-4ce4-b24d-6f16bf24dd64)\n",
    "\n",
    "- **MODELYEAR** e.g. 2014\n",
    "- **MAKE** e.g. Acura\n",
    "- **MODEL** e.g. ILX\n",
    "- **VEHICLE CLASS** e.g. SUV\n",
    "- **ENGINE SIZE** e.g. 4.7\n",
    "- **CYLINDERS** e.g 6\n",
    "- **TRANSMISSION** e.g. A6\n",
    "- **FUEL CONSUMPTION in CITY(L/100 km)** e.g. 9.9\n",
    "- **FUEL CONSUMPTION in HWY (L/100 km)** e.g. 8.9\n",
    "- **FUEL CONSUMPTION COMB (L/100 km)** e.g. 9.2\n",
    "- **CO2 EMISSIONS (g/km)** e.g. 182   --> low --> 0\n"
   ]
  },
  {
   "cell_type": "code",
   "execution_count": 3,
   "metadata": {
    "button": false,
    "new_sheet": false,
    "run_control": {
     "read_only": false
    }
   },
   "outputs": [
    {
     "data": {
      "text/html": [
       "<div>\n",
       "<style scoped>\n",
       "    .dataframe tbody tr th:only-of-type {\n",
       "        vertical-align: middle;\n",
       "    }\n",
       "\n",
       "    .dataframe tbody tr th {\n",
       "        vertical-align: top;\n",
       "    }\n",
       "\n",
       "    .dataframe thead th {\n",
       "        text-align: right;\n",
       "    }\n",
       "</style>\n",
       "<table border=\"1\" class=\"dataframe\">\n",
       "  <thead>\n",
       "    <tr style=\"text-align: right;\">\n",
       "      <th></th>\n",
       "      <th>MODELYEAR</th>\n",
       "      <th>MAKE</th>\n",
       "      <th>MODEL</th>\n",
       "      <th>VEHICLECLASS</th>\n",
       "      <th>ENGINESIZE</th>\n",
       "      <th>CYLINDERS</th>\n",
       "      <th>TRANSMISSION</th>\n",
       "      <th>FUELTYPE</th>\n",
       "      <th>FUELCONSUMPTION_CITY</th>\n",
       "      <th>FUELCONSUMPTION_HWY</th>\n",
       "      <th>FUELCONSUMPTION_COMB</th>\n",
       "      <th>FUELCONSUMPTION_COMB_MPG</th>\n",
       "      <th>CO2EMISSIONS</th>\n",
       "    </tr>\n",
       "  </thead>\n",
       "  <tbody>\n",
       "    <tr>\n",
       "      <td>0</td>\n",
       "      <td>2014</td>\n",
       "      <td>ACURA</td>\n",
       "      <td>ILX</td>\n",
       "      <td>COMPACT</td>\n",
       "      <td>2.0</td>\n",
       "      <td>4</td>\n",
       "      <td>AS5</td>\n",
       "      <td>Z</td>\n",
       "      <td>9.9</td>\n",
       "      <td>6.7</td>\n",
       "      <td>8.5</td>\n",
       "      <td>33</td>\n",
       "      <td>196</td>\n",
       "    </tr>\n",
       "    <tr>\n",
       "      <td>1</td>\n",
       "      <td>2014</td>\n",
       "      <td>ACURA</td>\n",
       "      <td>ILX</td>\n",
       "      <td>COMPACT</td>\n",
       "      <td>2.4</td>\n",
       "      <td>4</td>\n",
       "      <td>M6</td>\n",
       "      <td>Z</td>\n",
       "      <td>11.2</td>\n",
       "      <td>7.7</td>\n",
       "      <td>9.6</td>\n",
       "      <td>29</td>\n",
       "      <td>221</td>\n",
       "    </tr>\n",
       "    <tr>\n",
       "      <td>2</td>\n",
       "      <td>2014</td>\n",
       "      <td>ACURA</td>\n",
       "      <td>ILX HYBRID</td>\n",
       "      <td>COMPACT</td>\n",
       "      <td>1.5</td>\n",
       "      <td>4</td>\n",
       "      <td>AV7</td>\n",
       "      <td>Z</td>\n",
       "      <td>6.0</td>\n",
       "      <td>5.8</td>\n",
       "      <td>5.9</td>\n",
       "      <td>48</td>\n",
       "      <td>136</td>\n",
       "    </tr>\n",
       "    <tr>\n",
       "      <td>3</td>\n",
       "      <td>2014</td>\n",
       "      <td>ACURA</td>\n",
       "      <td>MDX 4WD</td>\n",
       "      <td>SUV - SMALL</td>\n",
       "      <td>3.5</td>\n",
       "      <td>6</td>\n",
       "      <td>AS6</td>\n",
       "      <td>Z</td>\n",
       "      <td>12.7</td>\n",
       "      <td>9.1</td>\n",
       "      <td>11.1</td>\n",
       "      <td>25</td>\n",
       "      <td>255</td>\n",
       "    </tr>\n",
       "    <tr>\n",
       "      <td>4</td>\n",
       "      <td>2014</td>\n",
       "      <td>ACURA</td>\n",
       "      <td>RDX AWD</td>\n",
       "      <td>SUV - SMALL</td>\n",
       "      <td>3.5</td>\n",
       "      <td>6</td>\n",
       "      <td>AS6</td>\n",
       "      <td>Z</td>\n",
       "      <td>12.1</td>\n",
       "      <td>8.7</td>\n",
       "      <td>10.6</td>\n",
       "      <td>27</td>\n",
       "      <td>244</td>\n",
       "    </tr>\n",
       "  </tbody>\n",
       "</table>\n",
       "</div>"
      ],
      "text/plain": [
       "   MODELYEAR   MAKE       MODEL VEHICLECLASS  ENGINESIZE  CYLINDERS  \\\n",
       "0       2014  ACURA         ILX      COMPACT         2.0          4   \n",
       "1       2014  ACURA         ILX      COMPACT         2.4          4   \n",
       "2       2014  ACURA  ILX HYBRID      COMPACT         1.5          4   \n",
       "3       2014  ACURA     MDX 4WD  SUV - SMALL         3.5          6   \n",
       "4       2014  ACURA     RDX AWD  SUV - SMALL         3.5          6   \n",
       "\n",
       "  TRANSMISSION FUELTYPE  FUELCONSUMPTION_CITY  FUELCONSUMPTION_HWY  \\\n",
       "0          AS5        Z                   9.9                  6.7   \n",
       "1           M6        Z                  11.2                  7.7   \n",
       "2          AV7        Z                   6.0                  5.8   \n",
       "3          AS6        Z                  12.7                  9.1   \n",
       "4          AS6        Z                  12.1                  8.7   \n",
       "\n",
       "   FUELCONSUMPTION_COMB  FUELCONSUMPTION_COMB_MPG  CO2EMISSIONS  \n",
       "0                   8.5                        33           196  \n",
       "1                   9.6                        29           221  \n",
       "2                   5.9                        48           136  \n",
       "3                  11.1                        25           255  \n",
       "4                  10.6                        27           244  "
      ]
     },
     "execution_count": 3,
     "metadata": {},
     "output_type": "execute_result"
    }
   ],
   "source": [
    "df = pd.read_csv(\"FuelConsumptionCo2.csv\")\n",
    "\n",
    "# take a look at the dataset\n",
    "df.head()"
   ]
  },
  {
   "cell_type": "code",
   "execution_count": 4,
   "metadata": {
    "button": false,
    "new_sheet": false,
    "run_control": {
     "read_only": false
    }
   },
   "outputs": [
    {
     "data": {
      "text/html": [
       "<div>\n",
       "<style scoped>\n",
       "    .dataframe tbody tr th:only-of-type {\n",
       "        vertical-align: middle;\n",
       "    }\n",
       "\n",
       "    .dataframe tbody tr th {\n",
       "        vertical-align: top;\n",
       "    }\n",
       "\n",
       "    .dataframe thead th {\n",
       "        text-align: right;\n",
       "    }\n",
       "</style>\n",
       "<table border=\"1\" class=\"dataframe\">\n",
       "  <thead>\n",
       "    <tr style=\"text-align: right;\">\n",
       "      <th></th>\n",
       "      <th>ENGINESIZE</th>\n",
       "      <th>CYLINDERS</th>\n",
       "      <th>FUELCONSUMPTION_COMB</th>\n",
       "      <th>CO2EMISSIONS</th>\n",
       "    </tr>\n",
       "  </thead>\n",
       "  <tbody>\n",
       "    <tr>\n",
       "      <td>0</td>\n",
       "      <td>2.0</td>\n",
       "      <td>4</td>\n",
       "      <td>8.5</td>\n",
       "      <td>196</td>\n",
       "    </tr>\n",
       "    <tr>\n",
       "      <td>1</td>\n",
       "      <td>2.4</td>\n",
       "      <td>4</td>\n",
       "      <td>9.6</td>\n",
       "      <td>221</td>\n",
       "    </tr>\n",
       "    <tr>\n",
       "      <td>2</td>\n",
       "      <td>1.5</td>\n",
       "      <td>4</td>\n",
       "      <td>5.9</td>\n",
       "      <td>136</td>\n",
       "    </tr>\n",
       "    <tr>\n",
       "      <td>3</td>\n",
       "      <td>3.5</td>\n",
       "      <td>6</td>\n",
       "      <td>11.1</td>\n",
       "      <td>255</td>\n",
       "    </tr>\n",
       "    <tr>\n",
       "      <td>4</td>\n",
       "      <td>3.5</td>\n",
       "      <td>6</td>\n",
       "      <td>10.6</td>\n",
       "      <td>244</td>\n",
       "    </tr>\n",
       "    <tr>\n",
       "      <td>5</td>\n",
       "      <td>3.5</td>\n",
       "      <td>6</td>\n",
       "      <td>10.0</td>\n",
       "      <td>230</td>\n",
       "    </tr>\n",
       "    <tr>\n",
       "      <td>6</td>\n",
       "      <td>3.5</td>\n",
       "      <td>6</td>\n",
       "      <td>10.1</td>\n",
       "      <td>232</td>\n",
       "    </tr>\n",
       "    <tr>\n",
       "      <td>7</td>\n",
       "      <td>3.7</td>\n",
       "      <td>6</td>\n",
       "      <td>11.1</td>\n",
       "      <td>255</td>\n",
       "    </tr>\n",
       "    <tr>\n",
       "      <td>8</td>\n",
       "      <td>3.7</td>\n",
       "      <td>6</td>\n",
       "      <td>11.6</td>\n",
       "      <td>267</td>\n",
       "    </tr>\n",
       "  </tbody>\n",
       "</table>\n",
       "</div>"
      ],
      "text/plain": [
       "   ENGINESIZE  CYLINDERS  FUELCONSUMPTION_COMB  CO2EMISSIONS\n",
       "0         2.0          4                   8.5           196\n",
       "1         2.4          4                   9.6           221\n",
       "2         1.5          4                   5.9           136\n",
       "3         3.5          6                  11.1           255\n",
       "4         3.5          6                  10.6           244\n",
       "5         3.5          6                  10.0           230\n",
       "6         3.5          6                  10.1           232\n",
       "7         3.7          6                  11.1           255\n",
       "8         3.7          6                  11.6           267"
      ]
     },
     "execution_count": 4,
     "metadata": {},
     "output_type": "execute_result"
    }
   ],
   "source": [
    "cdf = df[['ENGINESIZE','CYLINDERS','FUELCONSUMPTION_COMB','CO2EMISSIONS']]\n",
    "cdf.head(9)"
   ]
  },
  {
   "cell_type": "code",
   "execution_count": 5,
   "metadata": {
    "button": false,
    "new_sheet": false,
    "run_control": {
     "read_only": false
    },
    "scrolled": true
   },
   "outputs": [
    {
     "data": {
      "image/png": "[encoded data removed]",
      "text/plain": [
       "<Figure size 432x288 with 1 Axes>"
      ]
     },
     "metadata": {
      "needs_background": "light"
     },
     "output_type": "display_data"
    }
   ],
   "source": [
    "plt.scatter(cdf.ENGINESIZE, cdf.CO2EMISSIONS,  color='blue')\n",
    "plt.xlabel(\"Engine size\")\n",
    "plt.ylabel(\"Emission\")\n",
    "plt.show()"
   ]
  },
  {
   "cell_type": "markdown",
   "metadata": {
    "button": false,
    "new_sheet": false,
    "run_control": {
     "read_only": false
    }
   },
   "source": [
    "#### Creating train and test dataset\n"
   ]
  },
  {
   "cell_type": "code",
   "execution_count": 6,
   "metadata": {
    "button": false,
    "new_sheet": false,
    "run_control": {
     "read_only": false
    }
   },
   "outputs": [],
   "source": [
    "msk = np.random.rand(len(df)) < 0.8\n",
    "train = cdf[msk]\n",
    "test = cdf[~msk]"
   ]
  },
  {
   "cell_type": "markdown",
   "metadata": {
    "button": false,
    "new_sheet": false,
    "run_control": {
     "read_only": false
    }
   },
   "source": [
    "<h2 id=\"polynomial_regression\">Polynomial regression</h2>"
   ]
  },
  {
   "cell_type": "code",
   "execution_count": 7,
   "metadata": {
    "button": false,
    "new_sheet": false,
    "run_control": {
     "read_only": false
    }
   },
   "outputs": [
    {
     "data": {
      "text/plain": [
       "array([[ 1.  ,  2.4 ,  5.76],\n",
       "       [ 1.  ,  1.5 ,  2.25],\n",
       "       [ 1.  ,  3.5 , 12.25],\n",
       "       ...,\n",
       "       [ 1.  ,  3.  ,  9.  ],\n",
       "       [ 1.  ,  3.2 , 10.24],\n",
       "       [ 1.  ,  3.2 , 10.24]])"
      ]
     },
     "execution_count": 7,
     "metadata": {},
     "output_type": "execute_result"
    }
   ],
   "source": [
    "from sklearn.preprocessing import PolynomialFeatures\n",
    "from sklearn import linear_model\n",
    "train_x = np.asanyarray(train[['ENGINESIZE']])\n",
    "train_y = np.asanyarray(train[['CO2EMISSIONS']])\n",
    "\n",
    "test_x = np.asanyarray(test[['ENGINESIZE']])\n",
    "test_y = np.asanyarray(test[['CO2EMISSIONS']])\n",
    "\n",
    "\n",
    "poly = PolynomialFeatures(degree=2)\n",
    "train_x_poly = poly.fit_transform(train_x)\n",
    "train_x_poly"
   ]
  },
  {
   "cell_type": "code",
   "execution_count": 8,
   "metadata": {
    "button": false,
    "new_sheet": false,
    "run_control": {
     "read_only": false
    }
   },
   "outputs": [
    {
     "name": "stdout",
     "output_type": "stream",
     "text": [
      "Coefficients:  [[ 0.         50.35476698 -1.50076501]]\n",
      "Intercept:  [108.33131627]\n"
     ]
    }
   ],
   "source": [
    "clf = linear_model.LinearRegression()\n",
    "train_y_ = clf.fit(train_x_poly, train_y)\n",
    "# The coefficients\n",
    "print ('Coefficients: ', clf.coef_)\n",
    "print ('Intercept: ',clf.intercept_)"
   ]
  },
  {
   "cell_type": "code",
   "execution_count": 9,
   "metadata": {},
   "outputs": [
    {
     "data": {
      "text/plain": [
       "Text(0, 0.5, 'Emission')"
      ]
     },
     "execution_count": 9,
     "metadata": {},
     "output_type": "execute_result"
    },
    {
     "data": {
      "image/png": "[encoded data removed]",
      "text/plain": [
       "<Figure size 432x288 with 1 Axes>"
      ]
     },
     "metadata": {
      "needs_background": "light"
     },
     "output_type": "display_data"
    }
   ],
   "source": [
    "plt.scatter(train.ENGINESIZE, train.CO2EMISSIONS,  color='blue')\n",
    "XX = np.arange(0.0, 10.0, 0.1)\n",
    "yy = clf.intercept_[0]+ clf.coef_[0][1]*XX+ clf.coef_[0][2]*np.power(XX, 2)\n",
    "plt.plot(XX, yy, '-r' )\n",
    "plt.xlabel(\"Engine size\")\n",
    "plt.ylabel(\"Emission\")"
   ]
  },
  {
   "cell_type": "markdown",
   "metadata": {
    "button": false,
    "new_sheet": false,
    "run_control": {
     "read_only": false
    }
   },
   "source": [
    "<h2 id=\"evaluation\">Evaluation</h2>"
   ]
  },
  {
   "cell_type": "code",
   "execution_count": 10,
   "metadata": {},
   "outputs": [
    {
     "name": "stdout",
     "output_type": "stream",
     "text": [
      "Mean absolute error: 23.66\n",
      "Residual sum of squares (MSE): 967.54\n",
      "R2-score: 0.65\n"
     ]
    }
   ],
   "source": [
    "from sklearn.metrics import r2_score\n",
    "\n",
    "test_x_poly = poly.fit_transform(test_x)\n",
    "test_y_ = clf.predict(test_x_poly)\n",
    "\n",
    "print(\"Mean absolute error: %.2f\" % np.mean(np.absolute(test_y_ - test_y)))\n",
    "print(\"Residual sum of squares (MSE): %.2f\" % np.mean((test_y_ - test_y) ** 2))\n",
    "print(\"R2-score: %.2f\" % r2_score(test_y_ , test_y) )"
   ]
  },
  {
   "cell_type": "code",
   "execution_count": 11,
   "metadata": {},
   "outputs": [
    {
     "name": "stdout",
     "output_type": "stream",
     "text": [
      "Coefficients:  [[ 0.         31.06333552  3.79527442 -0.43736115]]\n",
      "Intercept:  [128.83866566]\n",
      "Mean absolute error: 23.62\n",
      "Residual sum of squares (MSE): 962.30\n",
      "R2-score: 0.66\n"
     ]
    },
    {
     "data": {
      "image/png": "[encoded data removed]",
      "text/plain": [
       "<Figure size 432x288 with 1 Axes>"
      ]
     },
     "metadata": {
      "needs_background": "light"
     },
     "output_type": "display_data"
    }
   ],
   "source": [
    "#using a polynomial regression with the dataset but this time with degree three (cubic).\n",
    "poly3 = PolynomialFeatures(degree=3)\n",
    "train_x_poly3 = poly3.fit_transform(train_x)\n",
    "clf3 = linear_model.LinearRegression()\n",
    "train_y3_ = clf3.fit(train_x_poly3, train_y)\n",
    "# The coefficients\n",
    "print ('Coefficients: ', clf3.coef_)\n",
    "print ('Intercept: ',clf3.intercept_)\n",
    "plt.scatter(train.ENGINESIZE, train.CO2EMISSIONS,  color='blue')\n",
    "XX = np.arange(0.0, 10.0, 0.1)\n",
    "yy = clf3.intercept_[0]+ clf3.coef_[0][1]*XX + clf3.coef_[0][2]*np.power(XX, 2) + clf3.coef_[0][3]*np.power(XX, 3)\n",
    "plt.plot(XX, yy, '-r' )\n",
    "plt.xlabel(\"Engine size\")\n",
    "plt.ylabel(\"Emission\")\n",
    "test_x_poly3 = poly3.fit_transform(test_x)\n",
    "test_y3_ = clf3.predict(test_x_poly3)\n",
    "print(\"Mean absolute error: %.2f\" % np.mean(np.absolute(test_y3_ - test_y)))\n",
    "print(\"Residual sum of squares (MSE): %.2f\" % np.mean((test_y3_ - test_y) ** 2))\n",
    "print(\"R2-score: %.2f\" % r2_score(test_y3_ , test_y) )"
   ]
  },
  {
   "cell_type": "code",
   "execution_count": 13,
   "metadata": {},
   "outputs": [
    {
     "data": {
      "text/plain": [
       "array([[202.64754516],\n",
       "       [265.30059228],\n",
       "       [354.40105204],\n",
       "       [244.37739092],\n",
       "       [244.37739092],\n",
       "       [202.64754516],\n",
       "       [293.85010267],\n",
       "       [293.85010267],\n",
       "       [244.37739092],\n",
       "       [244.37739092],\n",
       "       [357.37854937],\n",
       "       [357.37854937],\n",
       "       [202.64754516],\n",
       "       [202.64754516],\n",
       "       [202.64754516],\n",
       "       [244.37739092],\n",
       "       [244.37739092],\n",
       "       [244.37739092],\n",
       "       [244.37739092],\n",
       "       [357.37854937],\n",
       "       [244.37739092],\n",
       "       [301.73768245],\n",
       "       [301.73768245],\n",
       "       [202.64754516],\n",
       "       [301.73768245],\n",
       "       [202.64754516],\n",
       "       [202.64754516],\n",
       "       [202.64754516],\n",
       "       [219.20537101],\n",
       "       [202.64754516],\n",
       "       [269.44790816],\n",
       "       [244.37739092],\n",
       "       [269.44790816],\n",
       "       [363.08628629],\n",
       "       [219.20537101],\n",
       "       [334.97058635],\n",
       "       [317.01715441],\n",
       "       [297.81235941],\n",
       "       [334.97058635],\n",
       "       [178.56595424],\n",
       "       [194.49866847],\n",
       "       [170.82410337],\n",
       "       [178.56595424],\n",
       "       [219.20537101],\n",
       "       [269.44790816],\n",
       "       [348.21192046],\n",
       "       [269.44790816],\n",
       "       [269.44790816],\n",
       "       [269.44790816],\n",
       "       [269.44790816],\n",
       "       [269.44790816],\n",
       "       [348.21192046],\n",
       "       [368.44685177],\n",
       "       [269.44790816],\n",
       "       [269.44790816],\n",
       "       [269.44790816],\n",
       "       [269.44790816],\n",
       "       [269.44790816],\n",
       "       [368.44685177],\n",
       "       [269.44790816],\n",
       "       [178.56595424],\n",
       "       [178.56595424],\n",
       "       [309.46703081],\n",
       "       [202.64754516],\n",
       "       [265.30059228],\n",
       "       [265.30059228],\n",
       "       [363.08628629],\n",
       "       [265.30059228],\n",
       "       [273.57665952],\n",
       "       [273.57665952],\n",
       "       [324.36705992],\n",
       "       [273.57665952],\n",
       "       [265.30059228],\n",
       "       [202.64754516],\n",
       "       [202.64754516],\n",
       "       [202.64754516],\n",
       "       [202.64754516],\n",
       "       [223.38370159],\n",
       "       [334.97058635],\n",
       "       [334.97058635],\n",
       "       [357.37854937],\n",
       "       [357.37854937],\n",
       "       [334.97058635],\n",
       "       [334.97058635],\n",
       "       [363.08628629],\n",
       "       [363.08628629],\n",
       "       [334.97058635],\n",
       "       [219.20537101],\n",
       "       [182.49694249],\n",
       "       [186.46447372],\n",
       "       [202.64754516],\n",
       "       [277.68422219],\n",
       "       [256.96076362],\n",
       "       [219.20537101],\n",
       "       [219.20537101],\n",
       "       [219.20537101],\n",
       "       [186.46447372],\n",
       "       [186.46447372],\n",
       "       [273.57665952],\n",
       "       [265.30059228],\n",
       "       [324.36705992],\n",
       "       [324.36705992],\n",
       "       [244.37739092],\n",
       "       [324.36705992],\n",
       "       [324.36705992],\n",
       "       [324.36705992],\n",
       "       [324.36705992],\n",
       "       [252.77349919],\n",
       "       [219.20537101],\n",
       "       [219.20537101],\n",
       "       [194.49866847],\n",
       "       [186.46447372],\n",
       "       [219.20537101],\n",
       "       [186.46447372],\n",
       "       [202.64754516],\n",
       "       [202.64754516],\n",
       "       [265.30059228],\n",
       "       [256.96076362],\n",
       "       [202.64754516],\n",
       "       [219.20537101],\n",
       "       [324.36705992],\n",
       "       [244.37739092],\n",
       "       [244.37739092],\n",
       "       [265.30059228],\n",
       "       [223.38370159],\n",
       "       [309.46703081],\n",
       "       [265.30059228],\n",
       "       [273.57665952],\n",
       "       [273.57665952],\n",
       "       [202.64754516],\n",
       "       [244.37739092],\n",
       "       [223.38370159],\n",
       "       [202.64754516],\n",
       "       [223.38370159],\n",
       "       [223.38370159],\n",
       "       [202.64754516],\n",
       "       [265.30059228],\n",
       "       [313.26580779],\n",
       "       [265.30059228],\n",
       "       [265.30059228],\n",
       "       [313.26580779],\n",
       "       [341.72810079],\n",
       "       [363.08628629],\n",
       "       [186.46447372],\n",
       "       [186.46447372],\n",
       "       [345.00553455],\n",
       "       [277.68422219],\n",
       "       [186.46447372],\n",
       "       [186.46447372],\n",
       "       [265.30059228],\n",
       "       [223.38370159],\n",
       "       [285.8252848 ],\n",
       "       [261.13733604],\n",
       "       [261.13733604],\n",
       "       [277.68422219],\n",
       "       [261.13733604],\n",
       "       [277.68422219],\n",
       "       [277.68422219],\n",
       "       [277.68422219],\n",
       "       [231.76864254],\n",
       "       [269.44790816],\n",
       "       [269.44790816],\n",
       "       [244.37739092],\n",
       "       [244.37739092],\n",
       "       [244.37739092],\n",
       "       [317.01715441],\n",
       "       [348.21192046],\n",
       "       [269.44790816],\n",
       "       [269.44790816],\n",
       "       [269.44790816],\n",
       "       [269.44790816],\n",
       "       [373.43925248],\n",
       "       [375.79083063],\n",
       "       [202.64754516],\n",
       "       [202.64754516],\n",
       "       [202.64754516],\n",
       "       [223.38370159],\n",
       "       [223.38370159],\n",
       "       [265.30059228],\n",
       "       [265.30059228],\n",
       "       [194.49866847],\n",
       "       [265.30059228],\n",
       "       [309.46703081],\n",
       "       [309.46703081],\n",
       "       [231.76864254],\n",
       "       [269.44790816],\n",
       "       [194.49866847],\n",
       "       [194.49866847],\n",
       "       [202.64754516],\n",
       "       [244.37739092]])"
      ]
     },
     "execution_count": 13,
     "metadata": {},
     "output_type": "execute_result"
    }
   ],
   "source": [
    "test_y3_"
   ]
  },
  {
   "cell_type": "code",
   "execution_count": 14,
   "metadata": {},
   "outputs": [
    {
     "data": {
      "text/plain": [
       "array([[203.0377902 ],\n",
       "       [266.18862936],\n",
       "       [353.18281152],\n",
       "       [245.88873214],\n",
       "       [245.88873214],\n",
       "       [203.0377902 ],\n",
       "       [293.34784285],\n",
       "       [293.34784285],\n",
       "       [245.88873214],\n",
       "       [245.88873214],\n",
       "       [356.43237786],\n",
       "       [356.43237786],\n",
       "       [203.0377902 ],\n",
       "       [203.0377902 ],\n",
       "       [203.0377902 ],\n",
       "       [245.88873214],\n",
       "       [245.88873214],\n",
       "       [245.88873214],\n",
       "       [245.88873214],\n",
       "       [356.43237786],\n",
       "       [245.88873214],\n",
       "       [300.83748043],\n",
       "       [300.83748043],\n",
       "       [203.0377902 ],\n",
       "       [300.83748043],\n",
       "       [203.0377902 ],\n",
       "       [203.0377902 ],\n",
       "       [203.0377902 ],\n",
       "       [220.53835058],\n",
       "       [203.0377902 ],\n",
       "       [270.1585629 ],\n",
       "       [245.88873214],\n",
       "       [270.1585629 ],\n",
       "       [362.84146464],\n",
       "       [220.53835058],\n",
       "       [333.05509219],\n",
       "       [315.45657199],\n",
       "       [297.10766929],\n",
       "       [333.05509219],\n",
       "       [175.88649063],\n",
       "       [194.10741821],\n",
       "       [166.59593504],\n",
       "       [175.88649063],\n",
       "       [220.53835058],\n",
       "       [270.1585629 ],\n",
       "       [346.59363295],\n",
       "       [270.1585629 ],\n",
       "       [270.1585629 ],\n",
       "       [270.1585629 ],\n",
       "       [270.1585629 ],\n",
       "       [270.1585629 ],\n",
       "       [346.59363295],\n",
       "       [369.13049021],\n",
       "       [270.1585629 ],\n",
       "       [270.1585629 ],\n",
       "       [270.1585629 ],\n",
       "       [270.1585629 ],\n",
       "       [270.1585629 ],\n",
       "       [369.13049021],\n",
       "       [270.1585629 ],\n",
       "       [175.88649063],\n",
       "       [175.88649063],\n",
       "       [308.20705681],\n",
       "       [203.0377902 ],\n",
       "       [266.18862936],\n",
       "       [266.18862936],\n",
       "       [362.84146464],\n",
       "       [266.18862936],\n",
       "       [274.09848114],\n",
       "       [274.09848114],\n",
       "       [322.58602597],\n",
       "       [274.09848114],\n",
       "       [266.18862936],\n",
       "       [203.0377902 ],\n",
       "       [203.0377902 ],\n",
       "       [203.0377902 ],\n",
       "       [203.0377902 ],\n",
       "       [224.83845243],\n",
       "       [333.05509219],\n",
       "       [333.05509219],\n",
       "       [356.43237786],\n",
       "       [356.43237786],\n",
       "       [333.05509219],\n",
       "       [333.05509219],\n",
       "       [362.84146464],\n",
       "       [362.84146464],\n",
       "       [333.05509219],\n",
       "       [220.53835058],\n",
       "       [180.48674548],\n",
       "       [185.05698502],\n",
       "       [203.0377902 ],\n",
       "       [278.00838408],\n",
       "       [258.15871637],\n",
       "       [220.53835058],\n",
       "       [220.53835058],\n",
       "       [220.53835058],\n",
       "       [185.05698502],\n",
       "       [185.05698502],\n",
       "       [274.09848114],\n",
       "       [266.18862936],\n",
       "       [322.58602597],\n",
       "       [322.58602597],\n",
       "       [245.88873214],\n",
       "       [322.58602597],\n",
       "       [322.58602597],\n",
       "       [322.58602597],\n",
       "       [322.58602597],\n",
       "       [254.09873693],\n",
       "       [220.53835058],\n",
       "       [220.53835058],\n",
       "       [194.10741821],\n",
       "       [185.05698502],\n",
       "       [220.53835058],\n",
       "       [185.05698502],\n",
       "       [203.0377902 ],\n",
       "       [203.0377902 ],\n",
       "       [266.18862936],\n",
       "       [258.15871637],\n",
       "       [203.0377902 ],\n",
       "       [220.53835058],\n",
       "       [322.58602597],\n",
       "       [245.88873214],\n",
       "       [245.88873214],\n",
       "       [266.18862936],\n",
       "       [224.83845243],\n",
       "       [308.20705681],\n",
       "       [266.18862936],\n",
       "       [274.09848114],\n",
       "       [274.09848114],\n",
       "       [203.0377902 ],\n",
       "       [245.88873214],\n",
       "       [224.83845243],\n",
       "       [203.0377902 ],\n",
       "       [224.83845243],\n",
       "       [224.83845243],\n",
       "       [203.0377902 ],\n",
       "       [266.18862936],\n",
       "       [311.84682205],\n",
       "       [266.18862936],\n",
       "       [266.18862936],\n",
       "       [311.84682205],\n",
       "       [339.88439317],\n",
       "       [362.84146464],\n",
       "       [185.05698502],\n",
       "       [185.05698502],\n",
       "       [343.25402071],\n",
       "       [278.00838408],\n",
       "       [185.05698502],\n",
       "       [185.05698502],\n",
       "       [266.18862936],\n",
       "       [224.83845243],\n",
       "       [285.73814407],\n",
       "       [262.18868052],\n",
       "       [262.18868052],\n",
       "       [278.00838408],\n",
       "       [262.18868052],\n",
       "       [278.00838408],\n",
       "       [278.00838408],\n",
       "       [278.00838408],\n",
       "       [233.34861021],\n",
       "       [270.1585629 ],\n",
       "       [270.1585629 ],\n",
       "       [245.88873214],\n",
       "       [245.88873214],\n",
       "       [245.88873214],\n",
       "       [315.45657199],\n",
       "       [346.59363295],\n",
       "       [270.1585629 ],\n",
       "       [270.1585629 ],\n",
       "       [270.1585629 ],\n",
       "       [270.1585629 ],\n",
       "       [375.29945459],\n",
       "       [378.33891382],\n",
       "       [203.0377902 ],\n",
       "       [203.0377902 ],\n",
       "       [203.0377902 ],\n",
       "       [224.83845243],\n",
       "       [224.83845243],\n",
       "       [266.18862936],\n",
       "       [266.18862936],\n",
       "       [194.10741821],\n",
       "       [266.18862936],\n",
       "       [308.20705681],\n",
       "       [308.20705681],\n",
       "       [233.34861021],\n",
       "       [270.1585629 ],\n",
       "       [194.10741821],\n",
       "       [194.10741821],\n",
       "       [203.0377902 ],\n",
       "       [245.88873214]])"
      ]
     },
     "execution_count": 14,
     "metadata": {},
     "output_type": "execute_result"
    }
   ],
   "source": [
    "test_y_"
   ]
  },
  {
   "cell_type": "code",
   "execution_count": null,
   "metadata": {},
   "outputs": [],
   "source": []
  }
 ],
 "metadata": {
  "kernelspec": {
   "display_name": "Python 3",
   "language": "python",
   "name": "python3"
  },
  "language_info": {
   "codemirror_mode": {
    "name": "ipython",
    "version": 3
   },
   "file_extension": ".py",
   "mimetype": "text/x-python",
   "name": "python",
   "nbconvert_exporter": "python",
   "pygments_lexer": "ipython3",
   "version": "3.7.4"
  },
  "widgets": {
   "state": {},
   "version": "1.1.2"
  }
 },
 "nbformat": 4,
 "nbformat_minor": 2
}
